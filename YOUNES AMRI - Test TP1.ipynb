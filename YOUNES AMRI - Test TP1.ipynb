{
 "cells": [
  {
   "cell_type": "markdown",
   "metadata": {},
   "source": [
    "# Traitement automatique des langues\n",
    "#### Dr. Hentabli hamza\n",
    "\n",
    "## Exercises: Python Tutorial"
   ]
  },
  {
   "cell_type": "markdown",
   "metadata": {},
   "source": [
    "**Problem 1.** Write a program that loads one integer and prints the sum of its odd digits.  \n",
    "The output has to be in the form\n",
    "\n",
    "> The sum of the odd digits in number $n$ is $d$.\n",
    "\n",
    "**Test data:**\n",
    "\n",
    "* Input: $-131723$\n",
    "* Output: `The sum of the odd digits in number -131723 is 15.`  \n",
    "  ($1+3+1+7+3 = 15$)"
   ]
  },
  {
   "cell_type": "code",
   "execution_count": 40,
   "metadata": {},
   "outputs": [
    {
     "name": "stdout",
     "output_type": "stream",
     "text": [
      "Input= -131723\n",
      "\n",
      "The sum of the odd digits in number -131723 is 15."
     ]
    }
   ],
   "source": [
    "number=input('Input= ')\n",
    "s=0\n",
    "for x in number:\n",
    "    if x.isdigit() and int(x)%2 !=0 :\n",
    "        s+=int(x)\n",
    "print('\\nThe sum of the odd digits in number '+number+' is',s,end='.')"
   ]
  },
  {
   "cell_type": "markdown",
   "metadata": {},
   "source": [
    "**Problem 2.** Write a program that loads integers until a zero is loaded and then prints the maximum among them and which one was it (not taking the zero into the account). If there is more than one maximum, use the first one among them as a solution.\n",
    "\n",
    "**Test data:**\n",
    "\n",
    "* Input: $-19, -17, -23, -17, 0$\n",
    "* Output: `The maximum number is #2 and its value is -17.`"
   ]
  },
  {
   "cell_type": "code",
   "execution_count": 1,
   "metadata": {},
   "outputs": [
    {
     "name": "stdout",
     "output_type": "stream",
     "text": [
      "Enter your numbers sequence :\n",
      "54\n",
      "68\n",
      "45\n",
      "687\n",
      "648\n",
      "68\n",
      "458\n",
      "0\n",
      "The maximum number is # 4  and its value is  687 ."
     ]
    }
   ],
   "source": [
    "L1=[]\n",
    "print('Enter your numbers sequence :')\n",
    "while True:\n",
    "    x= int(input())\n",
    "    if x==0 :\n",
    "        break\n",
    "    L1.append(x)\n",
    "MAX=max(L1)\n",
    "for i in range(len(L1)):\n",
    "    if L1[i]== MAX :\n",
    "        print('The maximum number is #',i+1,' and its value is ',MAX,end=' .')\n",
    "        break"
   ]
  },
  {
   "cell_type": "markdown",
   "metadata": {},
   "source": [
    "**Problem 3.** Write a function `prime(n)` that returns `True` if `n` is a [prime number](http://en.wikipedia.org/wiki/Prime_number) and `False` otherwise. You may use the definition as a criterion:\n",
    "\n",
    "> A number $n$ is prime if it is a natural number with exactly two distinct divisors.  \n",
    "> Equivalently, $n$ is prime if $n > 1$ and is not divisible by any integer strictly between 1 and `n`.\n",
    "\n",
    "We shall look at a more efficient algorithm in one of the future lectures.\n",
    "\n",
    "Write a program that loads integers until it gets a negative number of a zero. Using the function `prime(n)`, the program should print the product of all the loaded prime numbers. If no primes were loaded, the program should instead write an appropriate descriptive message."
   ]
  },
  {
   "cell_type": "code",
   "execution_count": 2,
   "metadata": {},
   "outputs": [
    {
     "name": "stdout",
     "output_type": "stream",
     "text": [
      "Enter your numbers sequence :\n",
      "-1\n",
      "there is no primes !\n"
     ]
    }
   ],
   "source": [
    "def prime(n):\n",
    "    for i in range(2,n//2):\n",
    "        if n%i == 0 :\n",
    "            return False\n",
    "    return True\n",
    "\n",
    "Dict={'product':1,'numbersofprimes':0}\n",
    "\n",
    "print('Enter your numbers sequence :')\n",
    "\n",
    "while True :\n",
    "    x=int(input())\n",
    "    if x<=0 :\n",
    "        break\n",
    "    if prime(x) :\n",
    "        Dict['product']*=x\n",
    "        Dict['numbersofprimes']+=1\n",
    "        \n",
    "if not Dict['numbersofprimes'] :\n",
    "    print('there is no primes !')\n",
    "else :\n",
    "    print('the product of primes is ',Dict['product'])"
   ]
  },
  {
   "cell_type": "markdown",
   "metadata": {},
   "source": [
    "**Problem 4.** Without using Python's built-in functions for reversing lists, write your own function `my_reverse` that accepts a single parameter `L` (a list) and reverses its elements.\n",
    "\n",
    "**Hint:** Swap the first and the last element, then the second and the second to last, etc. Where should this swapping stop?"
   ]
  },
  {
   "cell_type": "code",
   "execution_count": 4,
   "metadata": {
    "scrolled": true
   },
   "outputs": [
    {
     "name": "stdout",
     "output_type": "stream",
     "text": [
      "[5, 4, 3, 2, 1]\n"
     ]
    }
   ],
   "source": [
    "def my_reverse(List) :\n",
    "    for i in range(0,len(List)//2):\n",
    "        x=List[i]\n",
    "        List[i]=List[-(i+1)]\n",
    "        List[-(i+1)]=x\n",
    "    return List\n",
    "\n",
    "print(my_reverse([1,2,3,4,5]))"
   ]
  },
  {
   "cell_type": "markdown",
   "metadata": {},
   "source": [
    "**Problem 5.** Without using Python's built-in functions for sorting lists, write your own function `my_sort` that accepts a single parameter L (a list) and sorts it."
   ]
  },
  {
   "cell_type": "code",
   "execution_count": 18,
   "metadata": {},
   "outputs": [
    {
     "name": "stdout",
     "output_type": "stream",
     "text": [
      "[4, 5, 8, 15, 68]\n"
     ]
    }
   ],
   "source": [
    "def my_sort(List):\n",
    "    for i in range(len(List)):\n",
    "        for j in range(i+1,len(List)-1):\n",
    "            if List[i]>List[j] :\n",
    "                x=List[i]\n",
    "                List[i]=List[j]\n",
    "                List[j]=x\n",
    "    return List\n",
    "print(my_sort([5,8,15,4,68]))"
   ]
  },
  {
   "cell_type": "markdown",
   "metadata": {},
   "source": [
    "**Problem 6.** Write a function `copy_rev(s)` that takes a string `s` and returns a new string that consists of an original string `s` followed by its reverse copy.\n",
    "\n",
    "For example, `copy_rev(\"aBcd\")` should return `\"aBcddcBa\"`."
   ]
  },
  {
   "cell_type": "code",
   "execution_count": 17,
   "metadata": {},
   "outputs": [
    {
     "name": "stdout",
     "output_type": "stream",
     "text": [
      "abccba\n"
     ]
    }
   ],
   "source": [
    "def copy_rev(string):\n",
    "    return string+string[::-1]\n",
    "\n",
    "print(copy_rev('abc'))"
   ]
  },
  {
   "cell_type": "markdown",
   "metadata": {},
   "source": [
    "**Problem 7.** We define words as sequences of non-space characters separated by a sequence of consecutive spaces (one or more of them).\n",
    "\n",
    "Write a function `second_word(s)` that returns the second word in `s`. Words are mutually separated by one or more spaces. You may assume that `s` will not start with a space.\n",
    "\n",
    "For example, in the string <code style=\"white-space: pre-wrap;\">\"This     is     a sentence.\"</code> the second word is \"is\" even though there are 5 spaces before it."
   ]
  },
  {
   "cell_type": "code",
   "execution_count": 44,
   "metadata": {},
   "outputs": [
    {
     "name": "stdout",
     "output_type": "stream",
     "text": [
      "the second word is \"is\".\n",
      "there are 5 spaces before it.\n"
     ]
    }
   ],
   "source": [
    "def second_word(S):\n",
    "    if S.startswith(' '):\n",
    "        return False\n",
    "    First_word=S.split()[0]\n",
    "    Second_word=S.split()[1]\n",
    "    spaces=S[len(First_word):].count(' ',0,S[len(First_word):].index(Second_word))\n",
    "    return 'the second word is \"'+Second_word+'\".\\nthere are '+str(spaces)+' spaces before it.'\n",
    "\n",
    "print(second_word(\"This     is     a sentence.\"))\n"
   ]
  },
  {
   "cell_type": "markdown",
   "metadata": {},
   "source": [
    "**Problem 8.** Write a program that loads an integer `n` and a file name, and then creates a text file with that name containing the [multiplication table](http://en.wikipedia.org/wiki/Multiplication_table) for all numbers between 1 and `abs(n)` (including both of them).\n",
    "\n",
    "Save the table in the following format:\n",
    "\n",
    "     *  | 1  | 2  | 3  | 4  | 5  \n",
    "    ----|----|----|----|----|----\n",
    "     1  | 1  | 2  | 3  | 4  | 5  \n",
    "     2  | 2  | 4  | 6  | 8  | 10 \n",
    "     3  | 3  | 6  | 9  | 12 | 15 \n",
    "     4  | 4  | 8  | 12 | 16 | 20 \n",
    "     5  | 5  | 10 | 15 | 20 | 25 \n"
   ]
  },
  {
   "cell_type": "code",
   "execution_count": 183,
   "metadata": {},
   "outputs": [
    {
     "name": "stdout",
     "output_type": "stream",
     "text": [
      "Enter the name of the file : multiplication_table.txt\n",
      "n= 15\n",
      "File saved in: \"/home/anes/Courses/Python/PCAP/multiplication_table.txt\"."
     ]
    }
   ],
   "source": [
    "import os\n",
    "filename=input('Enter the name of the file : ')\n",
    "n=abs(int(input('n= ')))\n",
    "\n",
    "if not filename.endswith('.txt'):\n",
    "    filename+='.txt'\n",
    "with open(filename,'w') as file:\n",
    "    file.write('*\\t')\n",
    "    for i in range(1,n+1):\n",
    "        file.write('|\\t'+str(i)+'\\t')\n",
    "    file.write('\\n---')\n",
    "    for i in range(n):\n",
    "         file.write('\\t|------')\n",
    "    file.write('\\n')\n",
    "    for i in range(1,n+1):\n",
    "        file.write(''+str(i)+'\\t')\n",
    "        for j in range(1,n+1):\n",
    "            file.write('|\\t'+str(i*j)+'\\t')\n",
    "        file.write('\\n')\n",
    "    file.close()\n",
    "print('File saved in: \"'+os.getcwd()+'/'+filename,end='\".')"
   ]
  }
 ],
 "metadata": {
  "kernelspec": {
   "display_name": "Python 3 (ipykernel)",
   "language": "python",
   "name": "python3"
  },
  "language_info": {
   "codemirror_mode": {
    "name": "ipython",
    "version": 3
   },
   "file_extension": ".py",
   "mimetype": "text/x-python",
   "name": "python",
   "nbconvert_exporter": "python",
   "pygments_lexer": "ipython3",
   "version": "3.9.7"
  }
 },
 "nbformat": 4,
 "nbformat_minor": 4
}
